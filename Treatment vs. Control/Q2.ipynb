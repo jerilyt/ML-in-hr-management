{
 "cells": [
  {
   "cell_type": "code",
   "execution_count": 1,
   "metadata": {},
   "outputs": [
    {
     "name": "stdout",
     "output_type": "stream",
     "text": [
      "/Users/yantong/Desktop/Tencent/Q2\n"
     ]
    }
   ],
   "source": [
    "%cd /Users/yantong/Desktop/Tencent/Q2"
   ]
  },
  {
   "cell_type": "code",
   "execution_count": 2,
   "metadata": {},
   "outputs": [],
   "source": [
    "import numpy as np\n",
    "import pandas as pd\n",
    "import seaborn as sns\n",
    "import statsmodels.stats.proportion as sp\n",
    "import matplotlib.pyplot as plt\n",
    "import scipy.stats\n"
   ]
  },
  {
   "cell_type": "code",
   "execution_count": 3,
   "metadata": {},
   "outputs": [],
   "source": [
    "simu_data=pd.read_csv(\"Q2.csv\")\n",
    "simu_data = simu_data.drop([\"Unnamed: 0\"],axis=1)\n",
    "#simu_data.head()"
   ]
  },
  {
   "cell_type": "markdown",
   "metadata": {},
   "source": [
    "## I. 缺失值处理"
   ]
  },
  {
   "cell_type": "code",
   "execution_count": 4,
   "metadata": {},
   "outputs": [
    {
     "name": "stdout",
     "output_type": "stream",
     "text": [
      "<class 'pandas.core.frame.DataFrame'>\n",
      "RangeIndex: 29972 entries, 0 to 29971\n",
      "Data columns (total 7 columns):\n",
      " #   Column     Non-Null Count  Dtype  \n",
      "---  ------     --------------  -----  \n",
      " 0   id         29942 non-null  float64\n",
      " 1   year       29972 non-null  int64  \n",
      " 2   Dept       29972 non-null  object \n",
      " 3   treatment  29972 non-null  int64  \n",
      " 4   profit     29972 non-null  float64\n",
      " 5   size       29972 non-null  float64\n",
      " 6   wageindex  29972 non-null  float64\n",
      "dtypes: float64(4), int64(2), object(1)\n",
      "memory usage: 1.6+ MB\n"
     ]
    }
   ],
   "source": [
    "simu_data.info()  # we guess there might be replicated null values in id. And fortunately, we found them. There are 2 teams with NA id\n",
    "# simu_data[simu_data.id.isnull() == True]"
   ]
  },
  {
   "cell_type": "code",
   "execution_count": 5,
   "metadata": {},
   "outputs": [
    {
     "data": {
      "text/html": [
       "<div>\n",
       "<style scoped>\n",
       "    .dataframe tbody tr th:only-of-type {\n",
       "        vertical-align: middle;\n",
       "    }\n",
       "\n",
       "    .dataframe tbody tr th {\n",
       "        vertical-align: top;\n",
       "    }\n",
       "\n",
       "    .dataframe thead th {\n",
       "        text-align: right;\n",
       "    }\n",
       "</style>\n",
       "<table border=\"1\" class=\"dataframe\">\n",
       "  <thead>\n",
       "    <tr style=\"text-align: right;\">\n",
       "      <th></th>\n",
       "      <th>id</th>\n",
       "      <th>year</th>\n",
       "      <th>treatment</th>\n",
       "      <th>profit</th>\n",
       "      <th>size</th>\n",
       "      <th>wageindex</th>\n",
       "    </tr>\n",
       "  </thead>\n",
       "  <tbody>\n",
       "    <tr>\n",
       "      <th>count</th>\n",
       "      <td>29942.000000</td>\n",
       "      <td>29972.000000</td>\n",
       "      <td>29972.000000</td>\n",
       "      <td>29972.000000</td>\n",
       "      <td>29972.000000</td>\n",
       "      <td>29972.000000</td>\n",
       "    </tr>\n",
       "    <tr>\n",
       "      <th>mean</th>\n",
       "      <td>519037.800147</td>\n",
       "      <td>2009.955192</td>\n",
       "      <td>0.014547</td>\n",
       "      <td>9828.606516</td>\n",
       "      <td>229.986832</td>\n",
       "      <td>0.977189</td>\n",
       "    </tr>\n",
       "    <tr>\n",
       "      <th>std</th>\n",
       "      <td>241691.891157</td>\n",
       "      <td>4.303138</td>\n",
       "      <td>0.119732</td>\n",
       "      <td>8741.118342</td>\n",
       "      <td>161.716154</td>\n",
       "      <td>0.334164</td>\n",
       "    </tr>\n",
       "    <tr>\n",
       "      <th>min</th>\n",
       "      <td>110003.000000</td>\n",
       "      <td>2003.000000</td>\n",
       "      <td>0.000000</td>\n",
       "      <td>1002.000000</td>\n",
       "      <td>51.000000</td>\n",
       "      <td>-0.415817</td>\n",
       "    </tr>\n",
       "    <tr>\n",
       "      <th>25%</th>\n",
       "      <td>360360.000000</td>\n",
       "      <td>2006.000000</td>\n",
       "      <td>0.000000</td>\n",
       "      <td>3735.000000</td>\n",
       "      <td>121.000000</td>\n",
       "      <td>0.746680</td>\n",
       "    </tr>\n",
       "    <tr>\n",
       "      <th>50%</th>\n",
       "      <td>450110.000000</td>\n",
       "      <td>2010.000000</td>\n",
       "      <td>0.000000</td>\n",
       "      <td>6964.000000</td>\n",
       "      <td>180.000000</td>\n",
       "      <td>0.969626</td>\n",
       "    </tr>\n",
       "    <tr>\n",
       "      <th>75%</th>\n",
       "      <td>730640.000000</td>\n",
       "      <td>2014.000000</td>\n",
       "      <td>0.000000</td>\n",
       "      <td>13179.250000</td>\n",
       "      <td>290.000000</td>\n",
       "      <td>1.199992</td>\n",
       "    </tr>\n",
       "    <tr>\n",
       "      <th>max</th>\n",
       "      <td>950445.000000</td>\n",
       "      <td>2017.000000</td>\n",
       "      <td>1.000000</td>\n",
       "      <td>124765.000000</td>\n",
       "      <td>6368.000000</td>\n",
       "      <td>2.695041</td>\n",
       "    </tr>\n",
       "  </tbody>\n",
       "</table>\n",
       "</div>"
      ],
      "text/plain": [
       "                  id          year     treatment         profit          size  \\\n",
       "count   29942.000000  29972.000000  29972.000000   29972.000000  29972.000000   \n",
       "mean   519037.800147   2009.955192      0.014547    9828.606516    229.986832   \n",
       "std    241691.891157      4.303138      0.119732    8741.118342    161.716154   \n",
       "min    110003.000000   2003.000000      0.000000    1002.000000     51.000000   \n",
       "25%    360360.000000   2006.000000      0.000000    3735.000000    121.000000   \n",
       "50%    450110.000000   2010.000000      0.000000    6964.000000    180.000000   \n",
       "75%    730640.000000   2014.000000      0.000000   13179.250000    290.000000   \n",
       "max    950445.000000   2017.000000      1.000000  124765.000000   6368.000000   \n",
       "\n",
       "          wageindex  \n",
       "count  29972.000000  \n",
       "mean       0.977189  \n",
       "std        0.334164  \n",
       "min       -0.415817  \n",
       "25%        0.746680  \n",
       "50%        0.969626  \n",
       "75%        1.199992  \n",
       "max        2.695041  "
      ]
     },
     "execution_count": 5,
     "metadata": {},
     "output_type": "execute_result"
    }
   ],
   "source": [
    "simu_data.describe()\n",
    "# team id in (110003, 950445), we use 110001 and 110002 to distinguish them"
   ]
  },
  {
   "cell_type": "code",
   "execution_count": 6,
   "metadata": {},
   "outputs": [],
   "source": [
    "simu_data.loc[14610:14624,\"id\"] = 110001\n",
    "simu_data.loc[17759:17773,\"id\"] =110002"
   ]
  },
  {
   "cell_type": "markdown",
   "metadata": {},
   "source": [
    "## II. Feature Engineering "
   ]
  },
  {
   "cell_type": "markdown",
   "metadata": {},
   "source": [
    "### 1. Meature profit per person. (avg_profit)"
   ]
  },
  {
   "cell_type": "code",
   "execution_count": 7,
   "metadata": {},
   "outputs": [],
   "source": [
    "simu_data[\"avg_profit\"] = simu_data[\"profit\"]/simu_data[\"size\"]"
   ]
  },
  {
   "cell_type": "markdown",
   "metadata": {},
   "source": [
    "### 2. Categorize the treatment group and control group.  (group_type)\n",
    "是否在当年实行改革动作，“1”为实施了改革动作，为实验组;“0” 为未实施改革动作，为控制组。当年 treatment 变量为 1，后续为 0，仍是实验组。"
   ]
  },
  {
   "cell_type": "code",
   "execution_count": 8,
   "metadata": {},
   "outputs": [],
   "source": [
    "treatment_id = simu_data[simu_data.loc[:,'treatment'] == 1].id"
   ]
  },
  {
   "cell_type": "code",
   "execution_count": 9,
   "metadata": {},
   "outputs": [],
   "source": [
    "simu_data['group_type'] = simu_data.apply(lambda x: 1 if x.id in treatment_id.tolist() else 0, axis=1)"
   ]
  },
  {
   "cell_type": "code",
   "execution_count": 10,
   "metadata": {},
   "outputs": [],
   "source": [
    "start_year = simu_data.groupby('id').apply(lambda x: x[x.year==x.year.min()])[[\"id\",\"year\"]]\n",
    "end_year = simu_data.groupby('id').apply(lambda x: x[x.year==x.year.max()])[[\"id\",\"year\"]]\n",
    "treatment_year = simu_data.groupby('id').apply(lambda x: x[x.treatment==1])[[\"id\",\"year\"]]"
   ]
  },
  {
   "cell_type": "code",
   "execution_count": 11,
   "metadata": {},
   "outputs": [],
   "source": [
    "start_year.index = range(len(start_year))\n",
    "start_year.rename(columns={'year':'start_year'}, inplace = True)\n",
    "end_year.index = range(len(end_year))\n",
    "end_year.rename(columns={'year':'end_year'}, inplace = True)\n",
    "treatment_year.index = range(len(treatment_year))\n",
    "treatment_year.rename(columns={'year':'treatment_year'}, inplace = True)"
   ]
  },
  {
   "cell_type": "code",
   "execution_count": 12,
   "metadata": {},
   "outputs": [],
   "source": [
    "simu_data=pd.merge(simu_data,start_year,how='left',on='id')\n",
    "simu_data=pd.merge(simu_data,end_year,how='left',on='id')\n",
    "simu_data=pd.merge(simu_data,treatment_year,how='left',on='id')"
   ]
  },
  {
   "cell_type": "markdown",
   "metadata": {},
   "source": [
    "### 3. Categorize the before treatment group and after treatment group. (adj_treatment)"
   ]
  },
  {
   "cell_type": "markdown",
   "metadata": {},
   "source": [
    "目的：为所有实验组(改革团队)找到与其最为相似的控制组(未改革团队)。在为所有实验组(改革团队)匹配与其最为相似的控制组(未改革团队)是，只使用实验组在实施改革策略前的数据，防止带来改革这一行为的影响"
   ]
  },
  {
   "cell_type": "code",
   "execution_count": 13,
   "metadata": {},
   "outputs": [],
   "source": [
    "simu_data['adj_treatment'] = simu_data.apply(lambda x: 1 if x.year >= x.treatment_year else 0, axis=1)"
   ]
  },
  {
   "cell_type": "code",
   "execution_count": 14,
   "metadata": {},
   "outputs": [],
   "source": [
    "simu_data = simu_data.drop([\"treatment_year\"],axis=1)"
   ]
  },
  {
   "cell_type": "code",
   "execution_count": 15,
   "metadata": {},
   "outputs": [],
   "source": [
    "control = simu_data[simu_data.group_type == 0]\n",
    "treatment_before = simu_data[(simu_data.adj_treatment == 0)&(simu_data.group_type == 1)]"
   ]
  },
  {
   "cell_type": "markdown",
   "metadata": {},
   "source": [
    "## III. 对实验组匹配最相似的对应组"
   ]
  },
  {
   "cell_type": "markdown",
   "metadata": {},
   "source": [
    "#### 基本思路：对离散数据进行独热编码处理，在全部变量都归一化之后计算实验组对每一个对照组的欧式距离。距离值最小的作为该实验组对应的对照组。"
   ]
  },
  {
   "cell_type": "markdown",
   "metadata": {},
   "source": [
    "1. **长表转宽表**\n",
    "\n",
    "对每一个团队来说，每一年都有指标数据(profit,size,wageindex,avg_profit)。原始表格是以团队id和年份来识别指标数据的。这里对数据进行重塑，将年份代入指标维度中。衡量每个团队的指标变成profit_2003,...,profit_profit_2017,size_2003,...,size_2017...之所以用2003作为起始值2017作为时间截止值是因为这是所有团队指标数据最早记录于2003年最晚记录于2017年。"
   ]
  },
  {
   "cell_type": "code",
   "execution_count": 16,
   "metadata": {},
   "outputs": [],
   "source": [
    "nearest = pd.concat([control,treatment_before],axis = 0)"
   ]
  },
  {
   "cell_type": "code",
   "execution_count": 17,
   "metadata": {},
   "outputs": [],
   "source": [
    "df1=pd.pivot_table(nearest,index=[\"id\",\"Dept\",\"start_year\",\"end_year\",\"group_type\"],\n",
    "                  columns=[ \"year\"], values=[\"profit\",\"size\",\"wageindex\",\"avg_profit\"])"
   ]
  },
  {
   "cell_type": "code",
   "execution_count": 18,
   "metadata": {},
   "outputs": [],
   "source": [
    "wide = df1.copy(deep=True)\n",
    "col = []\n",
    "for i in wide.columns:\n",
    "    i = list(i)\n",
    "    i[1] = str(i[1])\n",
    "    col.append(\"_\".join(i))"
   ]
  },
  {
   "cell_type": "code",
   "execution_count": 19,
   "metadata": {},
   "outputs": [],
   "source": [
    "wide.columns = col"
   ]
  },
  {
   "cell_type": "code",
   "execution_count": 20,
   "metadata": {},
   "outputs": [],
   "source": [
    "wide = wide.reset_index()"
   ]
  },
  {
   "cell_type": "markdown",
   "metadata": {},
   "source": [
    "2. **缺失值处理**\n",
    "    1. **缺失值分布**：缺失值主要分布在部分团队早期(eg.2013)的profit size wageindex avg_profit中，及实验组团队在后期的profit size wageindex avg_profit中，还有部分已经关闭的团队（或者没有数据）在后期的指标中    \n",
    "    2. **缺失原因** \n",
    "        1. 部分团队早期数据缺失：这些团队创立时间较晚，没有早期数据。\n",
    "        2. 实验组团队后期数据缺失：为保证相似分析不受实验影响，实验过后的数据都不予考虑\n",
    "        3. 已关闭的团队在后期数据缺失：这些团队在后期公司可能选择暂时关闭，所以不存在这些运营数据\n",
    "    3.  **缺失值处理**：由于需要通过余弦计算相似度，需要保证没有缺失值。为了以尽可能大的程度捕获信息同时不引入过多预测带来的偏差，这里不做缺失值填充，而是保留各个团队的创建年份,关闭年份，各类指标的初始值，并计算指标平均增长率。\n",
    "        1. 创建年份 start_year （前面代码已整理出，直接使用）\n",
    "        2. 关闭年份 end_year （前面代码已整理出，直接使用）         \n",
    "        3. 指标初始值 profit_start size_start wageindex_start avg_profit_start\n",
    "        4. 指标平均年增长率 profit_gr size_gr wageindex_gr avg_profit_gr"
   ]
  },
  {
   "cell_type": "markdown",
   "metadata": {},
   "source": [
    "指标初始值 profit_start size_start wageindex_start avg_profit_start"
   ]
  },
  {
   "cell_type": "code",
   "execution_count": 21,
   "metadata": {},
   "outputs": [],
   "source": [
    "profit_start = []\n",
    "s = 'profit_'\n",
    "for i in range(wide.shape[0]):\n",
    "    p_s = wide.loc[i,f'{s}{wide.loc[1,\"start_year\"]}']\n",
    "    profit_start.append(p_s)\n",
    "wide['profit_start'] = profit_start"
   ]
  },
  {
   "cell_type": "code",
   "execution_count": 22,
   "metadata": {},
   "outputs": [],
   "source": [
    "size_start = []\n",
    "s = 'size_'\n",
    "for i in range(wide.shape[0]):\n",
    "    p_s = wide.loc[i,f'{s}{wide.loc[1,\"start_year\"]}']\n",
    "    size_start.append(p_s)\n",
    "wide['size_start'] = size_start"
   ]
  },
  {
   "cell_type": "code",
   "execution_count": 23,
   "metadata": {},
   "outputs": [],
   "source": [
    "wageindex_start = []\n",
    "s = 'wageindex_'\n",
    "for i in range(wide.shape[0]):\n",
    "    p_s = wide.loc[i,f'{s}{wide.loc[1,\"start_year\"]}']\n",
    "    wageindex_start.append(p_s)\n",
    "wide['wageindex_start'] = wageindex_start"
   ]
  },
  {
   "cell_type": "code",
   "execution_count": 24,
   "metadata": {},
   "outputs": [],
   "source": [
    "avg_profit_start = []\n",
    "s = 'avg_profit_'\n",
    "for i in range(wide.shape[0]):\n",
    "    p_s = wide.loc[i,f'{s}{wide.loc[1,\"start_year\"]}']\n",
    "    avg_profit_start.append(p_s)\n",
    "wide['avg_profit_start'] = avg_profit_start"
   ]
  },
  {
   "cell_type": "markdown",
   "metadata": {},
   "source": [
    "指标平均年增长率 profit_gr size_gr wageindex_gr avg_profit_gr"
   ]
  },
  {
   "cell_type": "code",
   "execution_count": 25,
   "metadata": {},
   "outputs": [],
   "source": [
    "profit_index_name = [\"profit_2003\",\"profit_2004\",\"profit_2005\",\"profit_2006\",\"profit_2007\",\n",
    "                     \"profit_2008\",\"profit_2009\",\"profit_2010\",\"profit_2011\",\"profit_2012\",\n",
    "                     \"profit_2013\",\"profit_2014\",\"profit_2015\",\"profit_2016\",\"profit_2017\"]\n",
    "size_index_name = [\"size_2003\",\"size_2004\",\"size_2005\",\"size_2006\",\"size_2007\",\n",
    "                     \"size_2008\",\"size_2009\",\"size_2010\",\"size_2011\",\"size_2012\",\n",
    "                     \"size_2013\",\"size_2014\",\"size_2015\",\"size_2016\",\"size_2017\"]\n",
    "wageindex_index_name = [\"wageindex_2003\",\"wageindex_2004\",\"wageindex_2005\",\"wageindex_2006\",\"wageindex_2007\",\n",
    "                     \"wageindex_2008\",\"wageindex_2009\",\"wageindex_2010\",\"wageindex_2011\",\"wageindex_2012\",\n",
    "                     \"wageindex_2013\",\"wageindex_2014\",\"wageindex_2015\",\"wageindex_2016\",\"wageindex_2017\"]\n",
    "avg_profit_index_name = [\"avg_profit_2003\",\"avg_profit_2004\",\"avg_profit_2005\",\"avg_profit_2006\",\"avg_profit_2007\",\n",
    "                     \"avg_profit_2008\",\"avg_profit_2009\",\"avg_profit_2010\",\"avg_profit_2011\",\"avg_profit_2012\",\n",
    "                     \"avg_profit_2013\",\"avg_profit_2014\",\"avg_profit_2015\",\"avg_profit_2016\",\"avg_profit_2017\"]"
   ]
  },
  {
   "cell_type": "code",
   "execution_count": 26,
   "metadata": {},
   "outputs": [],
   "source": [
    "growth_rate = []\n",
    "for i in range(wide.shape[0]):\n",
    "    a = wide.loc[i,profit_index_name[1:15]]\n",
    "    b = wide.loc[i,profit_index_name[0:14]]\n",
    "    c = [(a[j] - b[j])/b[j] for j in range(len(a))]\n",
    "    c = np.nanmean(c)\n",
    "    growth_rate.append(c)\n",
    "wide['profit_gr'] = growth_rate"
   ]
  },
  {
   "cell_type": "code",
   "execution_count": 27,
   "metadata": {},
   "outputs": [],
   "source": [
    "\n",
    "growth_rate = []\n",
    "for i in range(wide.shape[0]):\n",
    "    a = wide.loc[i,size_index_name[1:15]]\n",
    "    b = wide.loc[i,size_index_name[0:14]]\n",
    "    c = [(a[j] - b[j])/b[j] for j in range(len(a))]\n",
    "    c = np.nanmean(c)\n",
    "    growth_rate.append(c)\n",
    "wide['size_gr'] = growth_rate\n"
   ]
  },
  {
   "cell_type": "code",
   "execution_count": 28,
   "metadata": {},
   "outputs": [],
   "source": [
    "\n",
    "growth_rate = []\n",
    "for i in range(wide.shape[0]):\n",
    "    a = wide.loc[i,wageindex_index_name[1:15]]\n",
    "    b = wide.loc[i,wageindex_index_name[0:14]]\n",
    "    c = [(a[j] - b[j])/b[j] for j in range(len(a))]\n",
    "    c = np.nanmean(c)\n",
    "    growth_rate.append(c)\n",
    "wide['wageindex_gr'] = growth_rate\n"
   ]
  },
  {
   "cell_type": "code",
   "execution_count": 29,
   "metadata": {},
   "outputs": [],
   "source": [
    "growth_rate = []\n",
    "for i in range(wide.shape[0]):\n",
    "    a = wide.iloc[i,6:20]\n",
    "    b = wide.iloc[i,5:19]\n",
    "    c = [(a[j] - b[j])/b[j] for j in range(len(a))]\n",
    "    c = np.nanmean(c)\n",
    "    growth_rate.append(c)\n",
    "wide['avg_profit_gr'] = growth_rate\n"
   ]
  },
  {
   "cell_type": "code",
   "execution_count": 30,
   "metadata": {},
   "outputs": [],
   "source": [
    "wide_keep = wide\n",
    "#wide = wide_keep"
   ]
  },
  {
   "cell_type": "code",
   "execution_count": 31,
   "metadata": {},
   "outputs": [],
   "source": [
    "wide = wide.drop(size_index_name,axis=1)\n",
    "wide = wide.drop(profit_index_name,axis=1)\n",
    "wide = wide.drop(wageindex_index_name,axis=1)\n",
    "wide = wide.drop(avg_profit_index_name,axis=1)\n"
   ]
  },
  {
   "cell_type": "code",
   "execution_count": 32,
   "metadata": {},
   "outputs": [],
   "source": [
    "dummies = pd.get_dummies( wide.loc[:, 'Dept'] ) \n",
    "wide = pd.concat( [wide, dummies], axis = 1 )\n",
    "wide = wide.drop(['Dept'],axis = 1)\n",
    "    "
   ]
  },
  {
   "cell_type": "code",
   "execution_count": 33,
   "metadata": {},
   "outputs": [],
   "source": [
    "#wide_keep = wide\n",
    "#wide = wide_keep\n"
   ]
  },
  {
   "cell_type": "markdown",
   "metadata": {},
   "source": [
    "3. **数据对一化处理**"
   ]
  },
  {
   "cell_type": "code",
   "execution_count": 34,
   "metadata": {},
   "outputs": [],
   "source": [
    "cols = wide.columns.values.tolist()[1:]\n",
    "for i in cols:\n",
    "    wide[i] = (wide[i] - np.nanmin(wide[i]))/(np.nanmax(wide[i])-np.nanmin(wide[i]))"
   ]
  },
  {
   "cell_type": "code",
   "execution_count": 35,
   "metadata": {},
   "outputs": [],
   "source": [
    "treatment_norm = wide[wide.group_type == 1]\n",
    "control_norm = wide[wide.group_type == 0]\n",
    "treatment_norm_keep = treatment_norm\n",
    "control_norm_keep = control_norm\n",
    "treatment_norm = treatment_norm.drop('group_type',axis=1)\n",
    "control_norm = control_norm.drop('group_type',axis=1)"
   ]
  },
  {
   "cell_type": "code",
   "execution_count": 36,
   "metadata": {},
   "outputs": [],
   "source": [
    "treatment_norm = treatment_norm.drop('id',axis=1)\n",
    "control_norm = control_norm.drop('id',axis=1)"
   ]
  },
  {
   "cell_type": "markdown",
   "metadata": {},
   "source": [
    "4. **对每个实验组团队匹配最相似的对照组**"
   ]
  },
  {
   "cell_type": "code",
   "execution_count": 37,
   "metadata": {},
   "outputs": [],
   "source": [
    "distance = pd.DataFrame(columns=range(len(control_norm)),index = range(len(treatment_norm)))\n",
    "for i in range(len(treatment_norm)):\n",
    "    for j in range(len(control_norm)):\n",
    "        distance.iloc[i,j] = np.sqrt(np.sum(np.square(treatment_norm.iloc[i,]-control_norm.iloc[j,])))"
   ]
  },
  {
   "cell_type": "code",
   "execution_count": 38,
   "metadata": {},
   "outputs": [],
   "source": [
    "similar_control = []\n",
    "for i in range(len(treatment_norm)):\n",
    "    dist_i = distance.iloc[i,].tolist()\n",
    "    max_index = dist_i.index(max(dist_i))\n",
    "    similar_control.append(max_index)"
   ]
  },
  {
   "cell_type": "code",
   "execution_count": 39,
   "metadata": {},
   "outputs": [],
   "source": [
    "control_norm_2 = wide_keep[wide_keep.group_type == 0]"
   ]
  },
  {
   "cell_type": "code",
   "execution_count": 40,
   "metadata": {
    "scrolled": true
   },
   "outputs": [],
   "source": [
    "control_sim_wide_1 = control_norm_2.loc[similar_control,]"
   ]
  },
  {
   "cell_type": "code",
   "execution_count": 41,
   "metadata": {},
   "outputs": [],
   "source": [
    "control_sim_wide_1 = control_sim_wide_1.drop(size_index_name,axis=1)\n",
    "control_sim_wide_1 = control_sim_wide_1.drop(profit_index_name,axis=1)\n",
    "control_sim_wide_1 = control_sim_wide_1.drop(wageindex_index_name,axis=1)\n",
    "control_sim_wide_1 = control_sim_wide_1.drop(avg_profit_index_name,axis=1)"
   ]
  },
  {
   "cell_type": "markdown",
   "metadata": {},
   "source": [
    "## IV. 分析改革效果"
   ]
  },
  {
   "cell_type": "markdown",
   "metadata": {},
   "source": [
    "**基本思路**\n",
    "1. 从团队总体带来的利益profit，团队人数size，人均带来的利益avg_profit，和薪酬指标wage_index来分析改革是否带来好的效果。\n",
    "2. 即使使用最相似分析对每个实验组找到与之最相近的对照组，我们也无法保证实验组和对照组除了自变量（是否改革）外不受其他因素的干扰。这里我采取了保守型策略：从初期指标值与指标平均增长率两个角度上衡量四大指标：\n",
    "    1. 在分析改革效果中，我们只分析实验组在改革后的数据，初始年份为改革年份，所以基本上都会比对照组晚几年。因此实验组初期各指标值（初期总利益，初期总人数，初期人均利益，初期薪酬指标）皆会高于对照组的。这里用假设检验验证这一想法。结果表明确实如此。\n",
    "    2. 根据以上假设，我们认为实验组有较高的初期指标。若实验组同时还保持较高的增长率，比如实验组在较高总收益的基准下还能保持较好的利益增长，那么表明这一改革能有效带来团队整体效率的提升。"
   ]
  },
  {
   "cell_type": "markdown",
   "metadata": {},
   "source": [
    "### 1. 获取改革后的实验组宽数据 treatment_after_change_wide"
   ]
  },
  {
   "cell_type": "code",
   "execution_count": 42,
   "metadata": {},
   "outputs": [],
   "source": [
    "# treatment_after = simu_data.treatment_year"
   ]
  },
  {
   "cell_type": "code",
   "execution_count": 43,
   "metadata": {},
   "outputs": [],
   "source": [
    "treatment_after = simu_data[simu_data.adj_treatment == 1]"
   ]
  },
  {
   "cell_type": "code",
   "execution_count": 44,
   "metadata": {},
   "outputs": [],
   "source": [
    "treatment_after_change = pd.merge(treatment_after,treatment_year,on=\"id\",how = \"right\")"
   ]
  },
  {
   "cell_type": "code",
   "execution_count": 45,
   "metadata": {},
   "outputs": [],
   "source": [
    "col = treatment_after_change.columns.tolist()[:12]\n",
    "col[9] = \"start_year_1\"\n",
    "col.append(\"start_year\")\n",
    "treatment_after_change.columns = col"
   ]
  },
  {
   "cell_type": "code",
   "execution_count": 46,
   "metadata": {},
   "outputs": [],
   "source": [
    "# treatment_after_change"
   ]
  },
  {
   "cell_type": "code",
   "execution_count": 47,
   "metadata": {},
   "outputs": [],
   "source": [
    "df1 = pd.pivot_table(treatment_after_change,index=[\"id\",\"Dept\",\"start_year\",\"end_year\",\"group_type\"],\n",
    "                     columns=[ \"year\"], values=[\"profit\",\"size\",\"wageindex\",\"avg_profit\"])\n",
    "wide = df1.copy(deep=True)\n",
    "col = []\n",
    "for i in wide.columns:\n",
    "    i = list(i)\n",
    "    i[1] = str(i[1])\n",
    "    col.append(\"_\".join(i))\n",
    "wide.columns = col\n",
    "wide = wide.reset_index()\n",
    "\n",
    "profit_start = []\n",
    "s = 'profit_'\n",
    "for i in range(wide.shape[0]):\n",
    "    p_s = wide.loc[i,f'{s}{wide.loc[i,\"start_year\"]}']\n",
    "    profit_start.append(p_s)\n",
    "wide['profit_start'] = profit_start\n",
    "size_start = []\n",
    "s = 'size_'\n",
    "for i in range(wide.shape[0]):\n",
    "    p_s = wide.loc[i,f'{s}{wide.loc[i,\"start_year\"]}']\n",
    "    size_start.append(p_s)\n",
    "wide['size_start'] = size_start\n",
    "wageindex_start = []\n",
    "s = 'wageindex_'\n",
    "for i in range(wide.shape[0]):\n",
    "    p_s = wide.loc[i,f'{s}{wide.loc[i,\"start_year\"]}']\n",
    "    wageindex_start.append(p_s)\n",
    "wide['wageindex_start'] = wageindex_start\n",
    "avg_profit_start = []\n",
    "s = 'avg_profit_'\n",
    "for i in range(wide.shape[0]):\n",
    "    p_s = wide.loc[i,f'{s}{wide.loc[i,\"start_year\"]}']\n",
    "    avg_profit_start.append(p_s)\n",
    "wide['avg_profit_start'] = avg_profit_start"
   ]
  },
  {
   "cell_type": "code",
   "execution_count": 48,
   "metadata": {},
   "outputs": [],
   "source": [
    "\n",
    "profit_index_name = [\"profit_2005\",\"profit_2006\",\"profit_2007\",\n",
    "                     \"profit_2008\",\"profit_2009\",\"profit_2010\",\"profit_2011\",\"profit_2012\",\n",
    "                     \"profit_2013\",\"profit_2014\",\"profit_2015\",\"profit_2016\",\"profit_2017\"]\n",
    "size_index_name = [\"size_2005\",\"size_2006\",\"size_2007\",\n",
    "                     \"size_2008\",\"size_2009\",\"size_2010\",\"size_2011\",\"size_2012\",\n",
    "                     \"size_2013\",\"size_2014\",\"size_2015\",\"size_2016\",\"size_2017\"]\n",
    "wageindex_index_name = [\"wageindex_2005\",\"wageindex_2006\",\"wageindex_2007\",\n",
    "                     \"wageindex_2008\",\"wageindex_2009\",\"wageindex_2010\",\"wageindex_2011\",\"wageindex_2012\",\n",
    "                     \"wageindex_2013\",\"wageindex_2014\",\"wageindex_2015\",\"wageindex_2016\",\"wageindex_2017\"]\n",
    "avg_profit_index_name = [\"avg_profit_2005\",\"avg_profit_2006\",\"avg_profit_2007\",\n",
    "                     \"avg_profit_2008\",\"avg_profit_2009\",\"avg_profit_2010\",\"avg_profit_2011\",\"avg_profit_2012\",\n",
    "                     \"avg_profit_2013\",\"avg_profit_2014\",\"avg_profit_2015\",\"avg_profit_2016\",\"avg_profit_2017\"]\n",
    "growth_rate = []\n",
    "for i in range(wide.shape[0]):\n",
    "    a = wide.loc[i,profit_index_name[1:15]]\n",
    "    b = wide.loc[i,profit_index_name[0:14]]\n",
    "    c = [(a[j] - b[j])/b[j] for j in range(len(a))]\n",
    "    c = np.nanmean(c)\n",
    "    growth_rate.append(c)\n",
    "wide['profit_gr'] = growth_rate\n",
    "\n",
    "growth_rate = []\n",
    "for i in range(wide.shape[0]):\n",
    "    a = wide.loc[i,profit_index_name[1:15]]\n",
    "    b = wide.loc[i,profit_index_name[0:14]]\n",
    "    c = [(a[j] - b[j])/b[j] for j in range(len(a))]\n",
    "    c = np.nanmean(c)\n",
    "    growth_rate.append(c)\n",
    "wide['profit_gr'] = growth_rate\n",
    "\n",
    "growth_rate = []\n",
    "for i in range(wide.shape[0]):\n",
    "    a = wide.loc[i,size_index_name[1:15]]\n",
    "    b = wide.loc[i,size_index_name[0:14]]\n",
    "    c = [(a[j] - b[j])/b[j] for j in range(len(a))]\n",
    "    c = np.nanmean(c)\n",
    "    growth_rate.append(c)\n",
    "wide['size_gr'] = growth_rate\n",
    "\n",
    "growth_rate = []\n",
    "for i in range(wide.shape[0]):\n",
    "    a = wide.loc[i,wageindex_index_name[1:15]]\n",
    "    b = wide.loc[i,wageindex_index_name[0:14]]\n",
    "    c = [(a[j] - b[j])/b[j] for j in range(len(a))]\n",
    "    c = np.nanmean(c)\n",
    "    growth_rate.append(c)\n",
    "wide['wageindex_gr'] = growth_rate\n",
    "\n",
    "growth_rate = []\n",
    "for i in range(wide.shape[0]):\n",
    "    a = wide.iloc[i,6:20]\n",
    "    b = wide.iloc[i,5:19]\n",
    "    c = [(a[j] - b[j])/b[j] for j in range(len(a))]\n",
    "    c = np.nanmean(c)\n",
    "    growth_rate.append(c)\n",
    "wide['avg_profit_gr'] = growth_rate"
   ]
  },
  {
   "cell_type": "code",
   "execution_count": 49,
   "metadata": {},
   "outputs": [],
   "source": [
    "keep_treatment_after_change_wide = wide\n",
    "treatment_after_change_wide = wide"
   ]
  },
  {
   "cell_type": "code",
   "execution_count": 50,
   "metadata": {},
   "outputs": [],
   "source": [
    "treatment_after_change_wide = treatment_after_change_wide.drop(size_index_name,axis=1)\n",
    "treatment_after_change_wide = treatment_after_change_wide.drop(profit_index_name,axis=1)\n",
    "treatment_after_change_wide = treatment_after_change_wide.drop(wageindex_index_name,axis=1)\n",
    "treatment_after_change_wide = treatment_after_change_wide.drop(avg_profit_index_name,axis=1)"
   ]
  },
  {
   "cell_type": "markdown",
   "metadata": {},
   "source": [
    "### 2. 获取对应对照组宽数据 control_sim_wide_1\n",
    "已在前面整理为control_sim_wide_1"
   ]
  },
  {
   "cell_type": "code",
   "execution_count": 51,
   "metadata": {},
   "outputs": [],
   "source": [
    "#control_sim_wide_1\n",
    "#treatment_after_change_wide"
   ]
  },
  {
   "cell_type": "markdown",
   "metadata": {},
   "source": [
    "### 3. 整理指标数据"
   ]
  },
  {
   "cell_type": "code",
   "execution_count": 52,
   "metadata": {},
   "outputs": [],
   "source": [
    "profit_start_t = treatment_after_change_wide.profit_start\n",
    "profit_start_c = control_sim_wide_1.profit_start\n",
    "size_start_t = treatment_after_change_wide.size_start\n",
    "size_start_c = control_sim_wide_1.size_start\n",
    "wageindex_start_t = treatment_after_change_wide.wageindex_start\n",
    "wageindex_start_c = control_sim_wide_1.wageindex_start\n",
    "avg_profit_start_t = treatment_after_change_wide.avg_profit_start\n",
    "avg_profit_start_c = control_sim_wide_1.avg_profit_start\n",
    "profit_gr_t = treatment_after_change_wide.profit_gr\n",
    "profit_gr_c = control_sim_wide_1.profit_gr\n",
    "size_gr_t = treatment_after_change_wide.size_gr\n",
    "size_gr_c = control_sim_wide_1.size_gr\n",
    "wageindex_gr_t = treatment_after_change_wide.wageindex_gr\n",
    "wageindex_gr_c = control_sim_wide_1.wageindex_gr\n",
    "avg_profit_gr_t = treatment_after_change_wide.avg_profit_gr\n",
    "avg_profit_gr_c = control_sim_wide_1.avg_profit_gr"
   ]
  },
  {
   "cell_type": "code",
   "execution_count": 53,
   "metadata": {},
   "outputs": [],
   "source": [
    "profit_start_t_mean=profit_start_t.mean()\n",
    "profit_start_c_mean=profit_start_c.mean()\n",
    "size_start_t_mean=size_start_t.mean()\n",
    "size_start_c_mean=size_start_c.mean()\n",
    "wageindex_start_t_mean=wageindex_start_t.mean()\n",
    "wageindex_start_c_mean=wageindex_start_c.mean()\n",
    "avg_profit_start_t_mean=avg_profit_start_t.mean()\n",
    "avg_profit_start_c_mean=avg_profit_start_c.mean()\n",
    "profit_gr_t_mean=profit_gr_t.mean()\n",
    "profit_gr_c_mean=profit_gr_c.mean()\n",
    "size_gr_t_mean=size_gr_t.mean()\n",
    "size_gr_c_mean=size_gr_c.mean()\n",
    "wageindex_gr_t_mean=wageindex_gr_t.mean()\n",
    "wageindex_gr_c_mean=wageindex_gr_c.mean()\n",
    "avg_profit_gr_t_mean = avg_profit_gr_t.mean()\n",
    "avg_profit_gr_c_mean = avg_profit_gr_c.mean()"
   ]
  },
  {
   "cell_type": "markdown",
   "metadata": {},
   "source": [
    "### 4. 假设检验"
   ]
  },
  {
   "cell_type": "code",
   "execution_count": 54,
   "metadata": {},
   "outputs": [],
   "source": [
    "def CI(t_mean,c_mean,t_std,c_std):\n",
    "    t_ci=1.960\n",
    "    t_n = 436\n",
    "    c_n = 436\n",
    "    #计算标准误差\n",
    "    se=np.sqrt( np.square(t_std)/t_n + np.square(c_std)/c_n )\n",
    "    sample_mean=t_mean - c_mean\n",
    "    #置信区间上限\n",
    "    a=round((sample_mean - t_ci * se),3)\n",
    "    #置信区间下限\n",
    "    b=round((sample_mean + t_ci * se),3)\n",
    "    return (a,b)\n"
   ]
  },
  {
   "cell_type": "markdown",
   "metadata": {},
   "source": [
    "#### 1. 验证实验组初期指标皆高于对照组"
   ]
  },
  {
   "cell_type": "markdown",
   "metadata": {},
   "source": [
    "    1. profit_start 团队初期总盈利 (实验组团队在改革后第一年总盈利或对照组团队于2003年/创建第一年总盈利)\n",
    "    \n",
    "       记实验组的profit_start为 p_11，对照组的profit_start为 p_12。\n",
    "       \n",
    "       对实验组而言，profit_start衡量的是在改革之后第一年的盈利，对对照组而言，由于没有改革，profit_start衡量的是团队第一年的盈利。我们希望实验组在改革之后有盈利上的提升。所以我们目标是拒绝两个团队盈利相当的假设。\n",
    "      \n",
    "    零假设    H_0： p_11 = p_12\n",
    "    备择假设   H_1 ： p_11 > p_12"
   ]
  },
  {
   "cell_type": "code",
   "execution_count": 55,
   "metadata": {},
   "outputs": [
    {
     "name": "stdout",
     "output_type": "stream",
     "text": [
      "实验组的均值为7637.108,标准差为5529.708, 对照组的均值为5922.516,标准差为4586.234.\n",
      "两个平均值差值的置信区间，95置信水平 CI=[1040.242000,2388.941000]\n"
     ]
    }
   ],
   "source": [
    "t_mean=profit_start_t.mean()\n",
    "c_mean=profit_start_c.mean()\n",
    "#样本标准差\n",
    "t_std=profit_start_t.std()\n",
    "c_std=profit_start_c.std()\n",
    "print(f'实验组的均值为{round(t_mean,3)},标准差为{round(t_std,3)}, 对照组的均值为{round(c_mean,3)},标准差为{round(c_std,3)}.')\n",
    "print('两个平均值差值的置信区间，95置信水平 CI=[%f,%f]' % CI(t_mean,c_mean,t_std,c_std))"
   ]
  },
  {
   "cell_type": "code",
   "execution_count": 56,
   "metadata": {
    "scrolled": false
   },
   "outputs": [
    {
     "name": "stdout",
     "output_type": "stream",
     "text": [
      "4.983470701107065 7.53553885285607e-07\n"
     ]
    }
   ],
   "source": [
    "t, pval = scipy.stats.ttest_ind(profit_start_t,profit_start_c)\n",
    "print(t,pval)"
   ]
  },
  {
   "cell_type": "markdown",
   "metadata": {},
   "source": [
    "    根据t检验拒绝原假设，认为实验组改革后第一年的利益是大于对照组的。"
   ]
  },
  {
   "cell_type": "markdown",
   "metadata": {},
   "source": [
    "    2. size_start 团队初期总人数   (实验组团队在改革后第一年总人数或对照组团队于2003年/创建第一年总人数)\n",
    "    \n",
    "        记实验组的size_start为 p_21，对照组的size_start为 p_22。\n",
    "        \n",
    "        对实验组而言，size_start衡量的是在改革之后第一年团队的人数，对对照组而言，size_start衡量的是团队第一年的总人数。通常来说时间越晚，做的项目越多越庞大，团队人数应该会上升。所以我们目标是拒绝两个团队人数相当的假设。\n",
    "\n",
    "    零假设 H_0： p_21 = p_22\n",
    "    \n",
    "    备择假设 H_1 ： p_21 > p_22"
   ]
  },
  {
   "cell_type": "code",
   "execution_count": 57,
   "metadata": {},
   "outputs": [
    {
     "name": "stdout",
     "output_type": "stream",
     "text": [
      "实验组的均值为203.462,标准差为104.862, 对照组的均值为167.454,标准差为78.314.\n",
      "两个平均值差值的置信区间，95置信水平 CI=[23.723000,48.293000]\n"
     ]
    }
   ],
   "source": [
    "t_mean=size_start_t.mean()\n",
    "c_mean=size_start_c.mean()\n",
    "#样本标准差\n",
    "t_std=size_start_t.std()\n",
    "c_std=size_start_c.std()\n",
    "print(f'实验组的均值为{round(t_mean,3)},标准差为{round(t_std,3)}, 对照组的均值为{round(c_mean,3)},标准差为{round(c_std,3)}.')\n",
    "print('两个平均值差值的置信区间，95置信水平 CI=[%f,%f]' % CI(t_mean,c_mean,t_std,c_std))"
   ]
  },
  {
   "cell_type": "code",
   "execution_count": 58,
   "metadata": {},
   "outputs": [
    {
     "name": "stdout",
     "output_type": "stream",
     "text": [
      "5.744791977128681 1.2720861929519377e-08\n"
     ]
    }
   ],
   "source": [
    "t, pval = scipy.stats.ttest_ind(size_start_t,size_start_c)\n",
    "print(t,pval)"
   ]
  },
  {
   "cell_type": "markdown",
   "metadata": {},
   "source": [
    "    根据t检验拒绝原假设，认为实验组改革后第一年的团队人数多于对照组。"
   ]
  },
  {
   "cell_type": "markdown",
   "metadata": {},
   "source": [
    "    3. wageindex_start 团队初期薪酬指标   (实验组团队在改革后第一年薪酬指标或对照组团队于2003年/创建第一年薪酬指标)\n",
    "    \n",
    "    记实验组的wageindex_start为 p_31，对照组的wageindex_start为 p_32。\n",
    "    \n",
    "    对实验组而言，wageindex_start衡量的是在改革之后第一年薪酬指标，对对照组而言，size_start衡量的是团队第一年的薪酬指标。通常来说时间越晚，薪酬会增多。所以我们目标是拒绝两个团队人数相当的假设。\n",
    "    \n",
    "    零假设 H_0： p_31 = p_32\n",
    "    \n",
    "    备择假设 H_1 ： p_31 > p_32"
   ]
  },
  {
   "cell_type": "code",
   "execution_count": 59,
   "metadata": {},
   "outputs": [
    {
     "name": "stdout",
     "output_type": "stream",
     "text": [
      "实验组的均值为0.942,标准差为0.302, 对照组的均值为0.585,标准差为0.513.\n",
      "两个平均值差值的置信区间，95置信水平 CI=[0.301000,0.413000]\n"
     ]
    }
   ],
   "source": [
    "t_mean=wageindex_start_t.mean()\n",
    "c_mean=wageindex_start_c.mean()\n",
    "#样本标准差\n",
    "t_std=wageindex_start_t.std()\n",
    "c_std=wageindex_start_c.std()\n",
    "print(f'实验组的均值为{round(t_mean,3)},标准差为{round(t_std,3)}, 对照组的均值为{round(c_mean,3)},标准差为{round(c_std,3)}.')\n",
    "print('两个平均值差值的置信区间，95置信水平 CI=[%f,%f]' % CI(t_mean,c_mean,t_std,c_std))"
   ]
  },
  {
   "cell_type": "code",
   "execution_count": 60,
   "metadata": {},
   "outputs": [
    {
     "name": "stdout",
     "output_type": "stream",
     "text": [
      "12.537933054663652 2.870327801639024e-33\n"
     ]
    }
   ],
   "source": [
    "t, pval = scipy.stats.ttest_ind(wageindex_start_t,wageindex_start_c)\n",
    "print(t,pval)"
   ]
  },
  {
   "cell_type": "markdown",
   "metadata": {},
   "source": [
    "    根据t检验拒绝原假设，认为实验组改革后第一年的薪酬远多于对照组。"
   ]
  },
  {
   "cell_type": "code",
   "execution_count": null,
   "metadata": {},
   "outputs": [],
   "source": []
  },
  {
   "cell_type": "markdown",
   "metadata": {},
   "source": [
    "\n",
    "    4. avg_profit_start    团队初期人均盈利  (实验组团队在改革后第一年人均盈利或对照组团队于2003年/创建第一年人均盈利)\n",
    "    \n",
    "    记实验组的avg_profit_start为 p_41，对照组的avg_profit_start为 p_42。\n",
    "    \n",
    "    对实验组而言，avg_profit_start衡量的是在改革之后第一年人均盈利，对对照组而言，size_start衡量的是团队第一年的人均盈利。通常来说时间越晚，人均盈利理应上升，否则团队应该进行内部整改。所以我们目标是拒绝两个团队人数相当的假设。\n",
    "\n",
    "    \n",
    "    零假设 H_0： p_41 = p_42\n",
    "    \n",
    "    备择假设 H_1 ： p_41 > p_42"
   ]
  },
  {
   "cell_type": "code",
   "execution_count": 61,
   "metadata": {},
   "outputs": [
    {
     "name": "stdout",
     "output_type": "stream",
     "text": [
      "实验组的均值为35.751,标准差为13.712, 对照组的均值为30.998,标准差为13.153.\n",
      "两个平均值差值的置信区间，95置信水平 CI=[2.970000,6.537000]\n"
     ]
    }
   ],
   "source": [
    "t_mean=avg_profit_start_t.mean()\n",
    "c_mean=avg_profit_start_c.mean()\n",
    "#样本标准差\n",
    "t_std=avg_profit_start_t.std()\n",
    "c_std=avg_profit_start_c.std()\n",
    "print(f'实验组的均值为{round(t_mean,3)},标准差为{round(t_std,3)}, 对照组的均值为{round(c_mean,3)},标准差为{round(c_std,3)}.')\n",
    "print('两个平均值差值的置信区间，95置信水平 CI=[%f,%f]' % CI(t_mean,c_mean,t_std,c_std))"
   ]
  },
  {
   "cell_type": "code",
   "execution_count": 62,
   "metadata": {},
   "outputs": [
    {
     "name": "stdout",
     "output_type": "stream",
     "text": [
      "5.223852561743809 2.1941855681069663e-07\n"
     ]
    }
   ],
   "source": [
    "t, pval = scipy.stats.ttest_ind(avg_profit_start_t,avg_profit_start_c)\n",
    "print(t,pval)\n"
   ]
  },
  {
   "cell_type": "markdown",
   "metadata": {},
   "source": [
    "    根据t检验拒绝原假设，认为实验组改革后第一年的人均盈利高于对照组。"
   ]
  },
  {
   "cell_type": "markdown",
   "metadata": {},
   "source": [
    "#### 2. 验证实验组指标增长率皆高于对照组"
   ]
  },
  {
   "cell_type": "markdown",
   "metadata": {},
   "source": [
    "    1. profit_gr  平均盈利增长率 （实验组团队在改革后平均盈利增长率或对照组团队历年以来平均盈利增长率）\n",
    "    \n",
    "    记实验组的profit_gr为 p_51，对照组的profit_gr为 p_52。\n",
    "    \n",
    "    根据第一步对期初盈利的分析，我们认为实验组的盈利已普遍高于对照组。若改革有效，团队整体盈利能力应该得到提升，总盈利指标应该逐年上升，而上升幅度要比对照组高。\n",
    "    \n",
    "    零假设 H_0： p_51 = p_52\n",
    "    \n",
    "    备择假设 H_1 ： p_51 > p_52"
   ]
  },
  {
   "cell_type": "code",
   "execution_count": 63,
   "metadata": {},
   "outputs": [
    {
     "name": "stdout",
     "output_type": "stream",
     "text": [
      "实验组的均值为0.043,标准差为0.148, 对照组的均值为0.004,标准差为0.018.\n",
      "两个平均值差值的置信区间，95置信水平 CI=[0.025000,0.053000]\n"
     ]
    }
   ],
   "source": [
    "t_mean=profit_gr_t.mean()\n",
    "c_mean=profit_gr_c.mean()\n",
    "#样本标准差\n",
    "t_std=profit_gr_t.std()\n",
    "c_std=profit_gr_c.std()\n",
    "print(f'实验组的均值为{round(t_mean,3)},标准差为{round(t_std,3)}, 对照组的均值为{round(c_mean,3)},标准差为{round(c_std,3)}.')\n",
    "print('两个平均值差值的置信区间，95置信水平 CI=[%f,%f]' % CI(t_mean,c_mean,t_std,c_std))"
   ]
  },
  {
   "cell_type": "code",
   "execution_count": 64,
   "metadata": {},
   "outputs": [
    {
     "name": "stdout",
     "output_type": "stream",
     "text": [
      "5.500733182853414 4.974398455468453e-08\n"
     ]
    }
   ],
   "source": [
    "t, pval = scipy.stats.ttest_ind(profit_gr_t,profit_gr_c)\n",
    "print(t,pval)"
   ]
  },
  {
   "cell_type": "markdown",
   "metadata": {},
   "source": [
    "    根据t检验拒绝原假设，认为实验组改革后平均盈利增长率高于对照组。\n",
    "    两组的平均总利益增长率皆大于0（实验组为4.3%，对照组为0.4%）。若该公司不对团队采取改革措施，总收益也处于上升趋势，但幅度不高，不如改革后的实验组团队。原因可能在于该改革策略带来员工效率提升。"
   ]
  },
  {
   "cell_type": "markdown",
   "metadata": {},
   "source": [
    "    2. size_gr  团队历年来平均人数增长率 （实验组团队在改革后人数增长率或对照组团队历年以来平均人数增长率）\n",
    "    \n",
    "    记实验组的size_gr为 p_61，对照组的size_gr为 p_62。\n",
    "    \n",
    "    根据第一步对期初团队人数的分析，我们认为实验组的人数普遍高于对照组。团队人数上升代表该团队对团队项目有更高需求，需要更多的员工共同完成。若团队人数逐年增长，说明团队整体水平上升，负责项目需投入更多人力资源。所以我们目标是拒绝两个团队人数相当的假设来验证改革政策使得团队愈加庞大。\n",
    "    \n",
    "    零假设 H_0： p_61 = p_62\n",
    "    \n",
    "    备择假设 H_1 ： p_61 > p_62"
   ]
  },
  {
   "cell_type": "code",
   "execution_count": 65,
   "metadata": {},
   "outputs": [
    {
     "name": "stdout",
     "output_type": "stream",
     "text": [
      "实验组的均值为0.002,标准差为0.037, 对照组的均值为-0.004,标准差为0.018.\n",
      "两个平均值差值的置信区间，95置信水平 CI=[0.002000,0.010000]\n"
     ]
    }
   ],
   "source": [
    "t_mean=size_gr_t.mean()\n",
    "c_mean=size_gr_c.mean()\n",
    "#样本标准差\n",
    "t_std=size_gr_t.std()\n",
    "c_std=size_gr_c.std()\n",
    "print(f'实验组的均值为{round(t_mean,3)},标准差为{round(t_std,3)}, 对照组的均值为{round(c_mean,3)},标准差为{round(c_std,3)}.')\n",
    "print('两个平均值差值的置信区间，95置信水平 CI=[%f,%f]' % CI(t_mean,c_mean,t_std,c_std))"
   ]
  },
  {
   "cell_type": "code",
   "execution_count": 66,
   "metadata": {},
   "outputs": [
    {
     "name": "stdout",
     "output_type": "stream",
     "text": [
      "2.88667781043815 0.0039897059342363555\n"
     ]
    }
   ],
   "source": [
    "t, pval = scipy.stats.ttest_ind(size_gr_t,size_gr_c)\n",
    "print(t,pval)"
   ]
  },
  {
   "cell_type": "markdown",
   "metadata": {},
   "source": [
    "    根据t检验拒绝原假设，认为实验组改革后需要更多人力投入。\n",
    "    \n",
    "    实验组的人数增长率大于0（0.2%），而对照组增长率为负值（-0.4%）。根据对照组表现，若该公司不对团队采取改革措施，公司人数会总体呈现下降趋势，但幅度不大。若采取改革，团队会接手更多项目，投入更多人力。"
   ]
  },
  {
   "cell_type": "markdown",
   "metadata": {},
   "source": [
    "\n",
    "    3. wageindex_gr  团队历年来平均薪酬指标增长率 （实验组团队在改革以来平均薪酬指标增长率或对照组团队历年以来平均薪酬指标增长率）\n",
    "    \n",
    "    记实验组的wageindex_gr为 p_71，对照组的wageindex_gr为 p_72。\n",
    "    \n",
    "    根据第一步对期初薪酬的分析，我们认为实验组的薪酬普遍高于对照组。薪酬指标上升有两个可能原因，一是项目需要团队高薪聘请更多的专业人才，二是团队绩效突出带来的薪酬激励。无论是那种都表示团队水平表现好。所以我们目标是拒绝两个团队薪酬增长相当的假设来验证改革政策使得团队有更高薪酬指标（若t值为正数）。\n",
    "   \n",
    "    \n",
    "    零假设 H_0： p_71 = p_72\n",
    "    \n",
    "    备择假设 H_1 ： p_71 > p_72"
   ]
  },
  {
   "cell_type": "code",
   "execution_count": 67,
   "metadata": {},
   "outputs": [
    {
     "name": "stdout",
     "output_type": "stream",
     "text": [
      "实验组的均值为0.135,标准差为0.387, 对照组的均值为4.065,标准差为5.498.\n",
      "两个平均值差值的置信区间，95置信水平 CI=[-4.447000,-3.412000]\n"
     ]
    }
   ],
   "source": [
    "t_mean=wageindex_gr_t.mean()\n",
    "c_mean=wageindex_gr_c.mean()\n",
    "#样本标准差\n",
    "t_std=wageindex_gr_t.std()\n",
    "c_std=wageindex_gr_c.std()\n",
    "print(f'实验组的均值为{round(t_mean,3)},标准差为{round(t_std,3)}, 对照组的均值为{round(c_mean,3)},标准差为{round(c_std,3)}.')\n",
    "print('两个平均值差值的置信区间，95置信水平 CI=[%f,%f]' % CI(t_mean,c_mean,t_std,c_std))"
   ]
  },
  {
   "cell_type": "code",
   "execution_count": 68,
   "metadata": {},
   "outputs": [
    {
     "name": "stdout",
     "output_type": "stream",
     "text": [
      "-14.885225937544242 8.219265576419597e-45\n"
     ]
    }
   ],
   "source": [
    "t, pval = scipy.stats.ttest_ind(wageindex_gr_t,wageindex_gr_c)\n",
    "print(t,pval)"
   ]
  },
  {
   "cell_type": "markdown",
   "metadata": {},
   "source": [
    "    根据t检验拒绝原假设。但t值为负值，这就意味着对照组的薪酬指标增长要普遍高于实验组。实验组的薪酬增长率为13.5%，而对照组增长率有406.5%。但这一数据不能说明实验组绩效不突出，因为在上一组假设检验中验证了实验组起始薪酬要高于对照组，基数较高增长率低是难免的。两组均值皆为正数，说明该公司在持续走高，且给员工更多的薪酬。"
   ]
  },
  {
   "cell_type": "markdown",
   "metadata": {},
   "source": [
    "\n",
    "    4. avg_profit_start   团队历年来平均人均带来盈利增长率 (实验组团队在改革以来人均带来盈利增长率或对照组团队历年以来平均人均带来盈利增长率)\n",
    "    \n",
    "    记实验组的avg_profit_start为 p_81，对照组的avg_profit_start为 p_82。\n",
    "    \n",
    "    根据第一步对期初人均带来的收益的分析，我们认为实验组普遍高于对照组的。类似profit_gr，若改革有效，团队整体盈利能力应该得到提升，人均盈利指标应该逐年上升，而且上升幅度要比对照组高。\n",
    "   \n",
    "    \n",
    "    零假设 H_0： p_81 >= p_82\n",
    "    \n",
    "    备择假设 H_1 ： p_81 < p_82"
   ]
  },
  {
   "cell_type": "code",
   "execution_count": 69,
   "metadata": {},
   "outputs": [
    {
     "name": "stdout",
     "output_type": "stream",
     "text": [
      "实验组的均值为1.84,标准差为6.107, 对照组的均值为0.01,标准差为0.029.\n",
      "两个平均值差值的置信区间，95置信水平 CI=[1.256000,2.403000]\n"
     ]
    }
   ],
   "source": [
    "t_mean=avg_profit_gr_t.mean()\n",
    "c_mean=avg_profit_gr_c.mean()\n",
    "#样本标准差\n",
    "t_std=avg_profit_gr_t.std()\n",
    "c_std=avg_profit_gr_c.std()\n",
    "print(f'实验组的均值为{round(t_mean,3)},标准差为{round(t_std,3)}, 对照组的均值为{round(c_mean,3)},标准差为{round(c_std,3)}.')\n",
    "print('两个平均值差值的置信区间，95置信水平 CI=[%f,%f]' % CI(t_mean,c_mean,t_std,c_std))"
   ]
  },
  {
   "cell_type": "code",
   "execution_count": 70,
   "metadata": {},
   "outputs": [
    {
     "name": "stdout",
     "output_type": "stream",
     "text": [
      "6.254893480125795 6.23134077596045e-10\n"
     ]
    }
   ],
   "source": [
    "t, pval = scipy.stats.ttest_ind(avg_profit_gr_t,avg_profit_gr_c)\n",
    "print(t,pval)"
   ]
  },
  {
   "cell_type": "markdown",
   "metadata": {},
   "source": [
    "    根据t检验拒绝原假设，认为实验组改革后人均带来的收益增高。实验组的人均收益增长率为6.11%。相比之下，对照组略显逊色，人均收益增长率接近0。根据实验组表现，若公司采取改革行动，团队会带来更高收益。"
   ]
  }
 ],
 "metadata": {
  "kernelspec": {
   "display_name": "Python 3",
   "language": "python",
   "name": "python3"
  },
  "language_info": {
   "codemirror_mode": {
    "name": "ipython",
    "version": 3
   },
   "file_extension": ".py",
   "mimetype": "text/x-python",
   "name": "python",
   "nbconvert_exporter": "python",
   "pygments_lexer": "ipython3",
   "version": "3.7.6"
  }
 },
 "nbformat": 4,
 "nbformat_minor": 4
}
